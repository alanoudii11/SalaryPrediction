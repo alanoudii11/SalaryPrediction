{
 "cells": [
  {
   "cell_type": "code",
   "execution_count": null,
   "metadata": {},
   "outputs": [],
   "source": []
  },
  {
   "cell_type": "markdown",
   "metadata": {},
   "source": []
  },
  {
   "cell_type": "markdown",
   "metadata": {},
   "source": [
    "Our dataset contains 15 attributes and 32,561 objects. \n",
    "\n",
    "Our attributes are the following:\n",
    "1. Age: the person’s age in years; its type is integer.\n",
    "2. workclass: represents the employment status, and has 8 different values; its type is categorical. \n",
    "3. fnlwgt: the final weight of how much of the population it represents; integer. \n",
    "4. education: highest level of education; categorical.\n",
    "5. education-num: highest level of education in numerical form; integer.\n",
    "6. martial-status: represents the martial status, and has 7 values; categorical.\n",
    "7. occupation: represents the occupation of the individual, and has 14 values; categorical. \n",
    "8. relationship: represents the relationship status, and has 6 values; categorical. \n",
    "9. race: represents the person’s race, and has 5 values; categorical.\n",
    "10. sex: the person’s gender; binary. \n",
    "11. capital-gain: represents the capital gain; integer.\n",
    "12. capital-loss: represents the capital loss; integer.\n",
    "13. hours-per-week: represents the hours the person works per week; continuous.\n",
    "14. native-country: the person’s country, it has 41 values; categorical. \n",
    "15. salary: the class label; it indicates whether the person makes more or less than $50,000; binary."
   ]
  }
 ],
 "metadata": {
  "language_info": {
   "name": "python"
  },
  "orig_nbformat": 4
 },
 "nbformat": 4,
 "nbformat_minor": 2
}
