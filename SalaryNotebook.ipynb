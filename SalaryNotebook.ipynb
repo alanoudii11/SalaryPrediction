{
 "cells": [
  {
   "cell_type": "code",
   "execution_count": null,
   "metadata": {},
   "outputs": [],
   "source": []
  },
  {
   "cell_type": "markdown",
   "metadata": {},
   "source": [
    "# Goal of Collecting this Dataset\n",
    "Our project aims to predict weather an employee makes over 50k a year, so we will apply two data mining tasks which is classification and clustering. For classification we will classify the employees into different groups using their individual characteristics, such as age, gender, race, education, etc.  For the clustering task we will create a set of clusters for the employees who have comparable qualifications, so we can use these clusters to predict new employees’ yearly salary.\n"
   ]
  },
  {
   "cell_type": "markdown",
   "metadata": {},
   "source": [
    "# Source of the Dataset\n",
    "The dataset was obtained from Kaggle. \n",
    "https://www.kaggle.com/datasets/ayessa/salary-prediction-classification \n",
    "\n"
   ]
  },
  {
   "cell_type": "markdown",
   "metadata": {},
   "source": [
    "\n",
    "# General information:\n",
    "Our dataset contains 15 attributes and 32,561 objects. \n",
    "The class label is \"salary\".\n"
   ]
  },
  {
   "cell_type": "markdown",
   "metadata": {},
   "source": [
    "\n",
    "\n",
    "# Our attributes are the following:\n",
    "1. Age: the person’s age in years; its type is integer.\n",
    "2. workclass: represents the employment status, and has 8 different values; its type is categorical. \n",
    "3. fnlwgt: the final weight of how much of the population it represents; integer. \n",
    "4. education: highest level of education; categorical.\n",
    "5. education-num: highest level of education in numerical form; integer.\n",
    "6. martial-status: represents the martial status, and has 7 values; categorical.\n",
    "7. occupation: represents the occupation of the individual, and has 14 values; categorical. \n",
    "8. relationship: represents the relationship status, and has 6 values; categorical. \n",
    "9. race: represents the person’s race, and has 5 values; categorical.\n",
    "10. sex: the person’s gender; binary. \n",
    "11. capital-gain: represents the capital gain; integer.\n",
    "12. capital-loss: represents the capital loss; integer.\n",
    "13. hours-per-week: represents the hours the person works per week; continuous.\n",
    "14. native-country: the person’s country, it has 41 values; categorical. \n",
    "15. salary: the class label; it indicates whether the person makes more or less than $50,000; binary."
   ]
  },
  {
   "cell_type": "markdown",
   "metadata": {},
   "source": [
    "| Attribute name | Attribute type | Description                                                                       |  |  |  |  |\n",
    "| -------------- | -------------- | --------------------------------------------------------------------------------- |  |  |  |  |\n",
    "| Attribute name | integer        | The person's age in years.                                                        |  |  |  |  |\n",
    "| Attribute name | categorical    | Represents the employment status.                                                 |  |  |  |  |\n",
    "| Attribute name | integer        | The final weight of how much of the population it represents.                     |  |  |  |  |\n",
    "| Attribute name | categorical    | Highest level of education.                                                       |  |  |  |  |\n",
    "| Attribute name | integer        | Highest level of education in numerical form.                                     |  |  |  |  |\n",
    "| Attribute name | categorical    | Represents the marital status.                                                    |  |  |  |  |\n",
    "| Attribute name | categorical    | Represents the occupation of the individual.                                      |  |  |  |  |\n",
    "| Attribute name | categorical    | Represents the relationship status.                                               |  |  |  |  |\n",
    "| Attribute name | categorical    | Represents the person's race.                                                     |  |  |  |  |\n",
    "| Attribute name | binary         | The person's gender.                                                              |  |  |  |  |\n",
    "| Attribute name | integer        | Represents the capital gain.                                                      |  |  |  |  |\n",
    "| Attribute name | integer        | Represents the capital loss.                                                      |  |  |  |  |\n",
    "| Attribute name | continuous     | Represents the hours the person works per week.                                   |  |  |  |  |\n",
    "| Attribute name | categorical    | The person's country.                                                             |  |  |  |  |\n",
    "| Attribute name | binary         | The class label; it indicates whether the person makes more or less than $50,000. |  |  |  |"
   ]
  }
 ],
 "metadata": {
  "kernelspec": {
   "display_name": "Python 3",
   "language": "python",
   "name": "python3"
  },
  "language_info": {
   "codemirror_mode": {
    "name": "ipython",
    "version": 3
   },
   "file_extension": ".py",
   "mimetype": "text/x-python",
   "name": "python",
   "nbconvert_exporter": "python",
   "pygments_lexer": "ipython3",
   "version": "3.11.4"
  },
  "orig_nbformat": 4
 },
 "nbformat": 4,
 "nbformat_minor": 2
}
