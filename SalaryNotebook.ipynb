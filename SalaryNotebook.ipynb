{
 "cells": [
  {
   "cell_type": "markdown",
   "metadata": {},
   "source": [
    "# Goal of Collecting this Dataset\n",
    "Salary is a great source of motivation for employees, and as a result, we believe that salary prediction can be helpful to both employees and their employers, as it can roughly calculate the expected salaries, and the relationship between salaries and various factors. This information can be helpful to both employees and employers in negotiating for a fair salary and making better hiring decisions. <br> <br>\n",
    "\n",
    "# Data Mining Task\n",
    "\n",
    "Our overall aim is to create a reliable salary prediction model using both classification and clustering techniques. This model can assist employees and employers in making more informed decisions about compensation and hiring.\n",
    "\n",
    "__Classification:__ We will classify employees into different groups based on their personal and professional characteristics. This will allow us to predict the salary of new employees based on certain factors .<br>\n",
    "__Clustering:__ We will create a set of clusters for employees who have similar characteristics. This will allow us to identify groups of employees who are likely to have similar salaries.<br> <br>\n",
    "We believe that by using these data mining tasks, we can build a model that can accurately predict the salary of an employee. \n"
   ]
  },
  {
   "cell_type": "markdown",
   "metadata": {},
   "source": [
    "# Source of the Dataset\n",
    "The dataset was obtained from Kaggle. <br>\n",
    "https://www.kaggle.com/datasets/ayessa/salary-prediction-classification \n",
    "\n"
   ]
  },
  {
   "cell_type": "markdown",
   "metadata": {},
   "source": [
    "\n",
    "# General information:\n",
    "Our dataset contains 15 attributes and 32,561 objects. <br>\n",
    "The class label is \"salary\".\n",
    "\n",
    "### Class Label\n",
    "\n",
    "The class label in this dataset is \"salary,\" which represents whether an individual's income is greater than $50,000 (1) or less than or equal to $50,000 (0). Understanding this class label is crucial because it is often the target variable in predictive modeling tasks, such as classification.\n"
   ]
  },
  {
   "cell_type": "markdown",
   "metadata": {},
   "source": [
    "\n",
    "\n",
    "# Our attributes are the following:\n",
    "\n",
    "| Attribute name | Attribute type | Description                                                                       |  |  |  |  |\n",
    "| -------------- | -------------- | --------------------------------------------------------------------------------- |  |  |  |  |\n",
    "| Age            | integer        | The person's age in years.                                                        |  |  |  |  |\n",
    "| workclass      | categorical    | Represents the employment status.                                                 |  |  |  |  |\n",
    "| fnlwgt         | integer        | The final weight of how much of the population it represents.                     |  |  |  |  |\n",
    "| education      | categorical    | Highest level of education.                                                       |  |  |  |  |\n",
    "| education-num  | integer        | Highest level of education in numerical form.                                     |  |  |  |  |\n",
    "| marital-status | categorical    | Represents the marital status.                                                    |  |  |  |  |\n",
    "| occupation     | categorical    | Represents the occupation of the individual.                                      |  |  |  |  |\n",
    "| relationship   | categorical    | Represents the relationship status.                                               |  |  |  |  |\n",
    "| race           | categorical    | Represents the person's race.                                                     |  |  |  |  |\n",
    "| sex            | binary         | The person's gender.                                                              |  |  |  |  |\n",
    "| capital-gain   | integer        | Represents the capital gain.                                                      |  |  |  |  |\n",
    "| capital-loss   | integer        | Represents the capital loss.                                                      |  |  |  |  |\n",
    "| hours-per-week | continuous     | Represents the hours the person works per week.                                   |  |  |  |  |\n",
    "| native-country | categorical    | The person's country.                                                             |  |  |  |  |\n",
    "| salary         | binary         | The class label; it indicates whether the person makes more or less than $50,000. |  |  |  |"
   ]
  }
 ],
 "metadata": {
  "kernelspec": {
   "display_name": "Python 3",
   "language": "python",
   "name": "python3"
  },
  "language_info": {
   "codemirror_mode": {
    "name": "ipython",
    "version": 3
   },
   "file_extension": ".py",
   "mimetype": "text/x-python",
   "name": "python",
   "nbconvert_exporter": "python",
   "pygments_lexer": "ipython3",
   "version": "3.11.4"
  },
  "orig_nbformat": 4
 },
 "nbformat": 4,
 "nbformat_minor": 2
}
