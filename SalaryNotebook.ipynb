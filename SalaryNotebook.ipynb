{
 "cells": [
  {
   "cell_type": "code",
   "execution_count": null,
   "metadata": {},
   "outputs": [],
   "source": []
  },
  {
   "cell_type": "markdown",
   "metadata": {},
   "source": [
    "# Goal of Collecting this Dataset\n",
    "Our project aims to predict weather an employee makes over 50k a year, so we will apply two data mining tasks which is classification and clustering. For classification we will classify the employees into different groups using their individual characteristics, such as age, gender, race, education, etc.  For the clustering task we will create a set of clusters for the employees who have comparable qualifications, so we can use these clusters to predict new employees’ yearly salary.\n"
   ]
  },
  {
   "cell_type": "markdown",
   "metadata": {},
   "source": [
    "# Source of the Dataset\n",
    "The dataset was obtained from Kaggle. <br>\n",
    "https://www.kaggle.com/datasets/ayessa/salary-prediction-classification \n",
    "\n"
   ]
  },
  {
   "cell_type": "markdown",
   "metadata": {},
   "source": [
    "\n",
    "# General information:\n",
    "Our dataset contains 15 attributes and 32,561 objects. <br>\n",
    "The class label is \"salary\".\n"
   ]
  },
  {
   "cell_type": "markdown",
   "metadata": {},
   "source": [
    "\n",
    "\n",
    "# Our attributes are the following:\n",
    "\n",
    "| Attribute name | Attribute type | Description                                                                       |  |  |  |  |\n",
    "| -------------- | -------------- | --------------------------------------------------------------------------------- |  |  |  |  |\n",
    "| Age            | integer        | The person's age in years.                                                        |  |  |  |  |\n",
    "| workclass      | categorical    | Represents the employment status.                                                 |  |  |  |  |\n",
    "| fnlwgt         | integer        | The final weight of how much of the population it represents.                     |  |  |  |  |\n",
    "| education      | categorical    | Highest level of education.                                                       |  |  |  |  |\n",
    "| education-num  | integer        | Highest level of education in numerical form.                                     |  |  |  |  |\n",
    "| marital-status | categorical    | Represents the marital status.                                                    |  |  |  |  |\n",
    "| occupation     | categorical    | Represents the occupation of the individual.                                      |  |  |  |  |\n",
    "| relationship   | categorical    | Represents the relationship status.                                               |  |  |  |  |\n",
    "| race           | categorical    | Represents the person's race.                                                     |  |  |  |  |\n",
    "| sex            | binary         | The person's gender.                                                              |  |  |  |  |\n",
    "| capital-gain   | integer        | Represents the capital gain.                                                      |  |  |  |  |\n",
    "| capital-loss   | integer        | Represents the capital loss.                                                      |  |  |  |  |\n",
    "| hours-per-week | continuous     | Represents the hours the person works per week.                                   |  |  |  |  |\n",
    "| native-country | categorical    | The person's country.                                                             |  |  |  |  |\n",
    "| salary         | binary         | The class label; it indicates whether the person makes more or less than $50,000. |  |  |  |"
   ]
  }
 ],
 "metadata": {
  "kernelspec": {
   "display_name": "Python 3",
   "language": "python",
   "name": "python3"
  },
  "language_info": {
   "codemirror_mode": {
    "name": "ipython",
    "version": 3
   },
   "file_extension": ".py",
   "mimetype": "text/x-python",
   "name": "python",
   "nbconvert_exporter": "python",
   "pygments_lexer": "ipython3",
   "version": "3.11.4"
  },
  "orig_nbformat": 4
 },
 "nbformat": 4,
 "nbformat_minor": 2
}
